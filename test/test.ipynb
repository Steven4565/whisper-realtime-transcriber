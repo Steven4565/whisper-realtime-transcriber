{
 "cells": [
  {
   "cell_type": "code",
   "execution_count": null,
   "metadata": {},
   "outputs": [],
   "source": [
    "import whisper\n",
    "\n",
    "model = whisper.load_model(\"tiny\")\n"
   ]
  },
  {
   "cell_type": "code",
   "execution_count": null,
   "metadata": {},
   "outputs": [],
   "source": [
    "text = model.transcribe(\"recording.wav\")\n",
    "# printing the transacribe\n",
    "print(text['text'])"
   ]
  }
 ],
 "metadata": {
  "kernelspec": {
   "display_name": "Python 3.10.2 ('whisper': venv)",
   "language": "python",
   "name": "python3"
  },
  "language_info": {
   "name": "python",
   "version": "3.10.2"
  },
  "orig_nbformat": 4,
  "vscode": {
   "interpreter": {
    "hash": "c3c7842939762872a4d59aa390011d28f70aa98bdb44bfea28a54a28c5f4916b"
   }
  }
 },
 "nbformat": 4,
 "nbformat_minor": 2
}
